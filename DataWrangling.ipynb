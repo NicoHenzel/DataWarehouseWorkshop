{
 "cells": [
  {
   "cell_type": "code",
   "execution_count": 1,
   "metadata": {},
   "outputs": [],
   "source": [
    "import pandas as pd\n",
    "import time\n",
    "import datetime\n",
    "import warnings\n",
    "\n",
    "warnings.simplefilter(action='ignore', category=FutureWarning)\n"
   ]
  },
  {
   "attachments": {},
   "cell_type": "markdown",
   "metadata": {},
   "source": [
    "Data is provided through kaggle:\n",
    "\n",
    "https://www.kaggle.com/datasets/rohanrao/formula-1-world-championship-1950-2020\n",
    "\n",
    "Origin of data is:\n",
    "\n",
    "http://ergast.com/mrd/"
   ]
  },
  {
   "cell_type": "code",
   "execution_count": 2,
   "metadata": {},
   "outputs": [],
   "source": [
    "# Unpack archive.zip before executing this block!\n",
    "\n",
    "# data path\n",
    "path = \"Data/archive/\"\n",
    "\n",
    "# declare dataframes, list and dictionary variable for later use\n",
    "df_circuits = pd.read_csv(path + \"circuits.csv\")\n",
    "df_constructor_results = pd.read_csv(path + \"constructor_results.csv\")\n",
    "df_constructor_standings = pd.read_csv(path + \"constructor_standings.csv\")\n",
    "df_constructors = pd.read_csv(path + \"constructors.csv\")\n",
    "df_driver_standings = pd.read_csv(path + \"driver_standings.csv\")\n",
    "df_drivers = pd.read_csv(path + \"drivers.csv\")\n",
    "df_lap_times = pd.read_csv(path + \"lap_times.csv\")\n",
    "df_pit_stops = pd.read_csv(path + \"pit_stops.csv\")\n",
    "df_qualifying = pd.read_csv(path + \"qualifying.csv\")\n",
    "df_races = pd.read_csv(path + \"races.csv\")\n",
    "df_results = pd.read_csv(path + \"results.csv\")\n",
    "df_seasons = pd.read_csv(path + \"seasons.csv\")\n",
    "df_sprint_results = pd.read_csv(path + \"sprint_results.csv\")\n",
    "df_status = pd.read_csv(path + \"status.csv\")\n",
    "\n",
    "lst_df = [\n",
    "df_circuits,\n",
    "df_constructor_results,\n",
    "df_constructor_standings,\n",
    "df_constructors,\n",
    "df_driver_standings,\n",
    "df_drivers,\n",
    "df_lap_times,\n",
    "df_pit_stops,\n",
    "df_qualifying,\n",
    "df_races,\n",
    "df_results,\n",
    "df_seasons,\n",
    "df_sprint_results,\n",
    "df_status\n",
    "]\n",
    "\n",
    "dict_df = {\n",
    "\"df_circuits\": df_circuits,\n",
    "\"df_constructor_results\": df_constructor_results,\n",
    "\"df_constructor_standings\": df_constructor_standings,\n",
    "\"df_constructors\": df_constructors,\n",
    "\"df_driver_standings\": df_driver_standings,\n",
    "\"df_drivers\": df_drivers,\n",
    "\"df_lap_times\": df_lap_times,\n",
    "\"df_pit_stops\": df_pit_stops,\n",
    "\"df_qualifying\": df_qualifying,\n",
    "\"df_races\": df_races,\n",
    "\"df_results\": df_results,\n",
    "\"df_seasons\": df_seasons,\n",
    "\"df_sprint_results\": df_sprint_results,\n",
    "\"df_status\": df_status\n",
    "}"
   ]
  },
  {
   "cell_type": "code",
   "execution_count": 3,
   "metadata": {},
   "outputs": [
    {
     "data": {
      "text/plain": [
       "14"
      ]
     },
     "execution_count": 3,
     "metadata": {},
     "output_type": "execute_result"
    }
   ],
   "source": [
    "# number of dataframes\n",
    "len(lst_df)"
   ]
  },
  {
   "attachments": {},
   "cell_type": "markdown",
   "metadata": {},
   "source": [
    "# Data Cleaning"
   ]
  },
  {
   "cell_type": "code",
   "execution_count": 4,
   "metadata": {},
   "outputs": [],
   "source": [
    "# replace marked missing values with empty string for all dataframes\n",
    "for df in lst_df:\n",
    "    df.replace([\"\\\\N\"],\"\", inplace=True)"
   ]
  },
  {
   "cell_type": "code",
   "execution_count": 5,
   "metadata": {},
   "outputs": [],
   "source": [
    "# drop unneeded columns\n",
    "df_circuits.drop('url',axis= 1, inplace=True)\n",
    "df_constructor_standings.drop('positionText',axis= 1, inplace=True)\n",
    "df_constructors.drop('url',axis= 1, inplace=True)\n",
    "df_driver_standings.drop('positionText',axis= 1, inplace=True)\n",
    "df_drivers.drop('url',axis= 1, inplace=True)\n",
    "df_pit_stops.drop(\"duration\",axis= 1, inplace=True)\n",
    "df_results.drop(['positionText','position'],axis= 1, inplace=True)\n",
    "df_sprint_results.drop(['positionText','position'],axis= 1, inplace=True)\n",
    "# group laptimes of drivers for each different race by taking the mean over all laps of a driver for specific race\n",
    "# milliseconds could be converted into minutes:seconds.milliseconds format if needed\n",
    "df_grouped_lap_times = df_lap_times.groupby(['driverId','raceId'])['milliseconds'].mean().reset_index()\n",
    "# rename column for more clarity\n",
    "df_grouped_lap_times.rename({'milliseconds':'avgMillisecondsLap'},axis=1, inplace= True)\n",
    "# add index column to df_pit_stops\n",
    "df_grouped_lap_times['index'] = df_grouped_lap_times.index\n",
    "\n"
   ]
  },
  {
   "cell_type": "code",
   "execution_count": 8,
   "metadata": {},
   "outputs": [],
   "source": [
    "# save dataframes as csv\n",
    "for name, df in dict_df.items():\n",
    "    if name == 'df_seasons':\n",
    "        continue\n",
    "    df.to_csv(f\"Data/DWCData/{name.replace('df_','')}.csv\", index = False)\n",
    "\n",
    "df_grouped_lap_times.to_csv(\"Data/lap_times_grouped.csv\", index=False)\n"
   ]
  },
  {
   "cell_type": "markdown",
   "metadata": {},
   "source": []
  }
 ],
 "metadata": {
  "kernelspec": {
   "display_name": "stats",
   "language": "python",
   "name": "python3"
  },
  "language_info": {
   "codemirror_mode": {
    "name": "ipython",
    "version": 3
   },
   "file_extension": ".py",
   "mimetype": "text/x-python",
   "name": "python",
   "nbconvert_exporter": "python",
   "pygments_lexer": "ipython3",
   "version": "3.9.16"
  },
  "orig_nbformat": 4,
  "vscode": {
   "interpreter": {
    "hash": "587d36e23c680acb8a0a697d025d4b6e2ca9752ff3bd7f7e07530a55e21f169a"
   }
  }
 },
 "nbformat": 4,
 "nbformat_minor": 2
}
