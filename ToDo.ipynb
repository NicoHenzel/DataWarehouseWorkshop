{
 "cells": [
  {
   "attachments": {},
   "cell_type": "markdown",
   "metadata": {},
   "source": [
    "TO DO \n",
    "\n",
    "# Use Case und Datenset auswaehlen\n",
    "\n",
    "# Konzept erstellen\n",
    "\n",
    "# Projektbereicht schreiben\n"
   ]
  }
 ],
 "metadata": {
  "language_info": {
   "name": "python"
  },
  "orig_nbformat": 4
 },
 "nbformat": 4,
 "nbformat_minor": 2
}
