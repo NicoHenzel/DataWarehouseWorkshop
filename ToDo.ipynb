{
 "cells": [
  {
   "attachments": {},
   "cell_type": "markdown",
   "metadata": {},
   "source": [
    "TO DO \n",
    "\n",
    "# Use Case und Datenset auswaehlen\n",
    " - Erste Wahl Formel 1 Datensatz\n",
    "    - Nico: in python laden und mergen, erste uebersicht\n",
    "    - Alexandra: Datenmodell erstellen in ERM Notation (siehe Foliensatz 05DataModeling)\n",
    "    - Beide: Datensatz in SAP DW laden und joins erstellen \n",
    "    - Beschreibung der Daten in schriftlicher Form, Vorgehensweise und Ziel erlauetern \n",
    "        1. Erstellen Sie dazu zunächst ein konzeptionelles Modell, welches die wesentlichen Aspekte des Datamarts beinhalten soll. Als Methodik verwenden Sie hier vorzugsweise ein Entity-Relationship-Modell oder ein Dimensional Fact Model.2\n",
    "        2. Erstellen Sie nun das logische Modell und beschreiben Sie die Regeln zur Bereinigung / Transformation der Daten. Nennen Sie einige beispielhafte Auswertungen.\n",
    "        3. Implementieren Sei nun das Datenmodell (Tabellen, Views) und laden Sie die Daten. Erstellen Sie die oben genannten Auswertungen. Erstellen Sie dazu Stories\n",
    "\n",
    "# Konzept erstellen\n",
    " - \n",
    "\n",
    "# Projektbereicht schreiben\n",
    "\n"
   ]
  },
  {
   "cell_type": "markdown",
   "metadata": {},
   "source": []
  }
 ],
 "metadata": {
  "language_info": {
   "name": "python"
  },
  "orig_nbformat": 4
 },
 "nbformat": 4,
 "nbformat_minor": 2
}
